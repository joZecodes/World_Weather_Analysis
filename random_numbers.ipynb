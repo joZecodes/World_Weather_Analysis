{
 "cells": [
  {
   "cell_type": "code",
   "execution_count": 1,
   "id": "45f6e65d",
   "metadata": {},
   "outputs": [
    {
     "data": {
      "text/plain": [
       "-68"
      ]
     },
     "execution_count": 1,
     "metadata": {},
     "output_type": "execute_result"
    }
   ],
   "source": [
    "# Import the random module.\n",
    "import random\n",
    "random.randint( -90, 90)"
   ]
  },
  {
   "cell_type": "code",
   "execution_count": 2,
   "id": "bf5b8fdc",
   "metadata": {},
   "outputs": [
    {
     "data": {
      "text/plain": [
       "0.20452996876381513"
      ]
     },
     "execution_count": 2,
     "metadata": {},
     "output_type": "execute_result"
    }
   ],
   "source": [
    "random.random()"
   ]
  },
  {
   "cell_type": "code",
   "execution_count": 4,
   "id": "ffd608e0",
   "metadata": {},
   "outputs": [
    {
     "data": {
      "text/plain": [
       "[50.681629364440745,\n",
       " -0.1841214750875263,\n",
       " -70.42149753764285,\n",
       " 43.933175321137895,\n",
       " -67.47839698638049,\n",
       " -54.3464786658411,\n",
       " 73.04723142820913,\n",
       " -29.49065211841125,\n",
       " -41.39412252247555,\n",
       " -14.259711085510467]"
      ]
     },
     "execution_count": 4,
     "metadata": {},
     "output_type": "execute_result"
    }
   ],
   "source": [
    "x = 1\n",
    "latitudes = []\n",
    "while x < 11:\n",
    "    random_lat = random.randint(-90, 89) + random.random()\n",
    "    latitudes.append(random_lat)\n",
    "    x += 1\n",
    "    \n",
    "latitudes"
   ]
  },
  {
   "cell_type": "code",
   "execution_count": 5,
   "id": "179b9016",
   "metadata": {},
   "outputs": [
    {
     "data": {
      "text/plain": [
       "64"
      ]
     },
     "execution_count": 5,
     "metadata": {},
     "output_type": "execute_result"
    }
   ],
   "source": [
    "random.randrange(-90, 90, step=1)"
   ]
  },
  {
   "cell_type": "code",
   "execution_count": 6,
   "id": "5a6e70c7",
   "metadata": {},
   "outputs": [
    {
     "data": {
      "text/plain": [
       "10.216498256715184"
      ]
     },
     "execution_count": 6,
     "metadata": {},
     "output_type": "execute_result"
    }
   ],
   "source": [
    "random.uniform(-90, 90)"
   ]
  },
  {
   "cell_type": "code",
   "execution_count": 7,
   "id": "f4c99797",
   "metadata": {},
   "outputs": [],
   "source": [
    "# Import the NumPy module.\n",
    "import numpy as np"
   ]
  },
  {
   "cell_type": "code",
   "execution_count": 8,
   "id": "cb07b605",
   "metadata": {},
   "outputs": [
    {
     "data": {
      "text/plain": [
       "74.09124909805067"
      ]
     },
     "execution_count": 8,
     "metadata": {},
     "output_type": "execute_result"
    }
   ],
   "source": [
    "np.random.uniform(-90.000, 90.000)"
   ]
  },
  {
   "cell_type": "code",
   "execution_count": 9,
   "id": "d3925de7",
   "metadata": {},
   "outputs": [
    {
     "data": {
      "text/plain": [
       "array([ 41.95307762,  29.76264972, -21.81539061,  32.54959776,\n",
       "       -48.55825538,   9.92961879, -49.84869333,  10.7918421 ,\n",
       "       -73.88973296, -43.04627836,   7.0063859 ,  20.01359043,\n",
       "       -13.91691368, -28.51121386,  60.91356278, -60.59203955,\n",
       "       -57.33670577,  -0.65377264, -70.05119268, -12.44907685,\n",
       "        30.71095037,  43.32577119, -16.11357714, -69.9780279 ,\n",
       "       -78.68872916,  58.97753911,  65.78136215,   7.04747835,\n",
       "       -72.61721701, -86.79730249,  14.15467594, -55.49733234,\n",
       "        75.26064223, -37.69244761, -39.19363099,  42.45980104,\n",
       "        59.69813925, -66.04608216,  -8.6179112 ,  88.29494592,\n",
       "        37.53730999,  73.38801896, -85.64499057, -77.21071727,\n",
       "        27.88378758, -54.93330591, -57.10650527, -40.94782066,\n",
       "       -58.48007592, -15.21509234])"
      ]
     },
     "execution_count": 9,
     "metadata": {},
     "output_type": "execute_result"
    }
   ],
   "source": [
    "np.random.uniform(-90.000, 90.000, size=50)"
   ]
  },
  {
   "cell_type": "code",
   "execution_count": 10,
   "id": "2e4a0a16",
   "metadata": {},
   "outputs": [],
   "source": [
    "# Import timeit.\n",
    "import timeit"
   ]
  },
  {
   "cell_type": "code",
   "execution_count": 11,
   "id": "e0b19e20",
   "metadata": {},
   "outputs": [
    {
     "name": "stdout",
     "output_type": "stream",
     "text": [
      "40.4 µs ± 635 ns per loop (mean ± std. dev. of 7 runs, 10000 loops each)\n"
     ]
    }
   ],
   "source": [
    "%timeit np.random.uniform(-90.000, 90.000, size=1500)"
   ]
  },
  {
   "cell_type": "code",
   "execution_count": 12,
   "id": "7faeaa64",
   "metadata": {},
   "outputs": [
    {
     "name": "stdout",
     "output_type": "stream",
     "text": [
      "4.65 ms ± 10.4 µs per loop (mean ± std. dev. of 7 runs, 100 loops each)\n"
     ]
    }
   ],
   "source": [
    "def latitudes(size):\n",
    "    latitudes = []\n",
    "    x = 0\n",
    "    while x < (size):\n",
    "        random_lat = random.randint(-90, 90) + random.random()\n",
    "        latitudes.append(random_lat)\n",
    "        x += 1\n",
    "    return latitudes\n",
    "# Call the function with 1500.\n",
    "%timeit latitudes(1500)"
   ]
  },
  {
   "cell_type": "code",
   "execution_count": null,
   "id": "f880e35e",
   "metadata": {},
   "outputs": [],
   "source": []
  }
 ],
 "metadata": {
  "kernelspec": {
   "display_name": "PythonData",
   "language": "python",
   "name": "pythondata"
  },
  "language_info": {
   "codemirror_mode": {
    "name": "ipython",
    "version": 3
   },
   "file_extension": ".py",
   "mimetype": "text/x-python",
   "name": "python",
   "nbconvert_exporter": "python",
   "pygments_lexer": "ipython3",
   "version": "3.7.11"
  }
 },
 "nbformat": 4,
 "nbformat_minor": 5
}
